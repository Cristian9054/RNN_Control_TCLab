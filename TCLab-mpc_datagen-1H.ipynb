{
 "cells": [
  {
   "cell_type": "code",
   "execution_count": 1,
   "id": "94a5707f",
   "metadata": {},
   "outputs": [],
   "source": [
    "# Ref 1: https://apmonitor.com/do/index.php/Main/TCLabE\n",
    "# Ref 2: https://apmonitor.com/do/index.php/Main/TCLabG\n",
    "\n",
    "import tclab\n",
    "from tclab import setup\n",
    "from tclab import Historian, Plotter, clock\n",
    "import numpy as np\n",
    "import pandas as pd\n",
    "import time\n",
    "import matplotlib.pyplot as plt\n",
    "from gekko import GEKKO"
   ]
  },
  {
   "cell_type": "code",
   "execution_count": 2,
   "id": "7e948e2d",
   "metadata": {},
   "outputs": [],
   "source": [
    "# Create TCLab model\n",
    "T10 = 20.95\n",
    "T20 = 20.95"
   ]
  },
  {
   "cell_type": "code",
   "execution_count": 3,
   "id": "2b28104e",
   "metadata": {},
   "outputs": [],
   "source": [
    "# Run time in minutes\n",
    "run_time = 21.0\n",
    "\n",
    "# Number of cycles with 3 second intervals\n",
    "loops = int(60.0*run_time)\n",
    "tm = np.zeros(loops)"
   ]
  },
  {
   "cell_type": "code",
   "execution_count": 4,
   "id": "3a441a44",
   "metadata": {},
   "outputs": [],
   "source": [
    "# Temperature (K)\n",
    "# Esta celda es la que tiene los datos para entrenamiento\n",
    "Tsp1 = np.ones(loops) * 20.95 # set point (degC)\n",
    "#Tsp2 = np.ones(loops) * 20.95 # set point (degC)\n",
    "\n",
    "# Set point changes\n",
    "Tsp1[3:] = 40.0\n",
    "#Tsp2[40:] = 30.0\n",
    "Tsp1[190:] = 32.0\n",
    "#Tsp2[120:] = 35.0\n",
    "Tsp1[370:] = 45.0\n",
    "Tsp1[720:] = 58.0\n",
    "Tsp1[1000:] = 40.0\n",
    "Tsp1[1180:] = 31.0"
   ]
  },
  {
   "cell_type": "code",
   "execution_count": 5,
   "id": "dd5882b0",
   "metadata": {},
   "outputs": [],
   "source": [
    "# Esta celda y su Tsp, usar para ejecuciones aleatorias\n",
    "run_time_rand = 30.0\n",
    "loops_rand = int(60.0*run_time_rand)\n",
    "tm_rand = np.zeros(loops_rand)\n",
    "\n",
    "Tsp = np.ones(loops_rand)*20.9495\n",
    "\n",
    "Tsp[60:] = 30.0\n",
    "Tsp[240:] = 45.0\n",
    "Tsp[380:] = 38.0\n",
    "Tsp[655:] = 55.0\n",
    "Tsp[980:] = 23.0\n",
    "Tsp[1120:] = 40.0\n",
    "Tsp[1500:] = 28.5\n",
    "Tsp[1680:] = 36.0"
   ]
  },
  {
   "cell_type": "code",
   "execution_count": 6,
   "id": "b47291c3",
   "metadata": {},
   "outputs": [
    {
     "data": {
      "text/plain": [
       "[<matplotlib.lines.Line2D at 0x2a65f138b50>]"
      ]
     },
     "execution_count": 6,
     "metadata": {},
     "output_type": "execute_result"
    },
    {
     "data": {
      "image/png": "[encoded data removed]",
      "text/plain": [
       "<Figure size 432x288 with 1 Axes>"
      ]
     },
     "metadata": {
      "needs_background": "light"
     },
     "output_type": "display_data"
    }
   ],
   "source": [
    "plt.plot(Tsp)\n",
    "#plt.plot(Tsp2)"
   ]
  },
  {
   "cell_type": "code",
   "execution_count": 7,
   "id": "35881d93",
   "metadata": {},
   "outputs": [],
   "source": [
    "#########################################################\n",
    "# Initialize Model\n",
    "#########################################################\n",
    "# remote=True for MacOS\n",
    "# Code modified to output only 1 heater control\n",
    "m = GEKKO(name='tclab-mpc',remote=False)\n",
    "\n",
    "# 60 second time horizon, steps of 3 sec\n",
    "m.time = np.linspace(0,60,21)\n",
    "\n",
    "# Parameters\n",
    "# Parameter estimation see: https://apmonitor.com/do/index.php/Main/TCLabE\n",
    "U = m.FV(value=8.132,name='u')\n",
    "Us = m.FV(value=16.675,name='us')\n",
    "tau = m.FV(value=25.0,name='tau')\n",
    "alpha1 = m.FV(value=0.0102)   # W / % heater\n",
    "alpha2 = m.FV(value=0.0045) # W / % heater\n",
    "Ta = m.Param(value=23.0+273.15)     # K\n",
    "mass = m.Param(value=4.0/1000.0)    # kg\n",
    "Cp = m.Param(value=0.5*1000.0)      # J/kg-K    \n",
    "A = m.Param(value=10.0/100.0**2)    # Area not between heaters in m^2\n",
    "As = m.Param(value=2.0/100.0**2)    # Area between heaters in m^2\n",
    "eps = m.Param(value=0.9)            # Emissivity\n",
    "sigma = m.Const(5.67e-8)            # Stefan-Boltzmann\n",
    "\n",
    "\n",
    "# Manipulated variables\n",
    "Q1 = m.MV(value=0)\n",
    "Q1.STATUS = 1  # use to control temperature\n",
    "Q1.FSTATUS = 0 # no feedback measurement\n",
    "Q1.LOWER = 0.0\n",
    "Q1.UPPER = 100.0\n",
    "Q1.DMAX = 40.0\n",
    "Q1.COST = 0.0\n",
    "Q1.DCOST = 0.0\n",
    "\n",
    "# Controlled variable\n",
    "TC1 = m.CV(value=T10)\n",
    "TC1.STATUS = 1     # minimize error with setpoint range\n",
    "TC1.FSTATUS = 1    # receive measurement\n",
    "TC1.TR_INIT = 1    # reference trajectory\n",
    "TC1.TAU = 10       # time constant for response\n",
    "\n",
    "# State variables\n",
    "Q2 = m.MV(value=0)\n",
    "Q2.STATUS = 0  # use to control temperature\n",
    "Q2.FSTATUS = 0 # no feedback measurement\n",
    "\n",
    "TC2 = m.CV(value=T20)\n",
    "TC2.STATUS = 0     # minimize error with setpoint range\n",
    "TC2.FSTATUS = 1    # receive measurement\n",
    "\n",
    "TH1 = m.SV(value=T10)\n",
    "TH2 = m.SV(value=T20)\n",
    "\n",
    "# Heater temperatures\n",
    "T1i = m.Intermediate(TH1+273.15)\n",
    "T2i = m.Intermediate(TH2+273.15)\n",
    "\n",
    "# Heat transfer between two heaters\n",
    "Q_C12 = m.Intermediate(Us*As*(T2i-T1i)) # Convective\n",
    "Q_R12 = m.Intermediate(eps*sigma*As*(T2i**4-T1i**4)) # Radiative\n",
    "\n",
    "# Semi-fundamental correlations (energy balances)\n",
    "m.Equation(TH1.dt() == (1.0/(mass*Cp))*(U*A*(Ta-T1i) \\\n",
    "                    + eps * sigma * A * (Ta**4 - T1i**4) \\\n",
    "                    + Q_C12 + Q_R12 \\\n",
    "                    + alpha1*Q1))\n",
    "\n",
    "m.Equation(TH2.dt() == (1.0/(mass*Cp))*(U*A*(Ta-T2i) \\\n",
    "                    + eps * sigma * A * (Ta**4 - T2i**4) \\\n",
    "                    - Q_C12 - Q_R12 \\\n",
    "                    + alpha2*Q2))\n",
    "\n",
    "# Empirical correlations (lag equations to emulate conduction)\n",
    "m.Equation(tau * TC1.dt() == -TC1 + TH1)\n",
    "m.Equation(tau * TC2.dt() == -TC2 + TH2)\n",
    "\n",
    "# Global Options\n",
    "m.options.IMODE   = 6 # MPC\n",
    "m.options.CV_TYPE = 1 # Objective type\n",
    "m.options.NODES   = 3 # Collocation nodes\n",
    "m.options.SOLVER  = 3 # 1=APOPT, 3=IPOPT\n",
    "##################################################################"
   ]
  },
  {
   "cell_type": "code",
   "execution_count": 8,
   "id": "8522a586",
   "metadata": {},
   "outputs": [],
   "source": [
    "# TCLab simulation parameters\n",
    "speedx = 10\n",
    "TCLab = tclab.setup(connected=False, speedup=speedx)"
   ]
  },
  {
   "cell_type": "code",
   "execution_count": 9,
   "id": "6fac92c1",
   "metadata": {},
   "outputs": [
    {
     "name": "stdout",
     "output_type": "stream",
     "text": [
      "TCLab version 0.4.9\n",
      "Simulated TCLab\n",
      "Temperature 1: 20.95 °C\n",
      "Temperature 2: 20.63 °C\n",
      "Shutting down\n",
      "TCLab Model disconnected successfully.\n",
      "1550.993307352066 seconds\n"
     ]
    }
   ],
   "source": [
    "# Control loop\n",
    "with TCLab() as lab:\n",
    "    lhist = Historian(lab.sources)\n",
    "    \n",
    "    # Start temperatures\n",
    "    print('Temperature 1: {0:0.2f} °C'.format(lab.T1))\n",
    "    print('Temperature 2: {0:0.2f} °C'.format(lab.T2))\n",
    "    \n",
    "    start_time = time.time()\n",
    "    prev_time = start_time\n",
    "    t_run_mpc = []\n",
    "    \n",
    "    for t in tclab.clock(loops_rand):\n",
    "        \n",
    "        ###############################\n",
    "        ### MPC CONTROLLER          ###\n",
    "        ###############################\n",
    "        #Cambiar Tsp según se quiera\n",
    "        Tsp1_value = Tsp[min(loops_rand-1,int(round(t)))]\n",
    "        \n",
    "        TC1.MEAS = lab.T1\n",
    "        DT = 0.1\n",
    "        TC1.SPHI = Tsp1_value + DT\n",
    "        TC1.SPLO = Tsp1_value - DT\n",
    "        # solve MPC\n",
    "        t0_mpc = time.time()\n",
    "        m.solve(disp=False)\n",
    "        tf_mpc = time.time()\n",
    "        t_run_mpc.append(tf_mpc-t0_mpc)\n",
    "        # test for successful solution\n",
    "        if (m.options.APPSTATUS==1):\n",
    "            # retrieve the first Q value\n",
    "            Q1s_in = Q1.NEWVAL\n",
    "        else:\n",
    "            # not successful, set heater to zero\n",
    "            Q1s_in = 0        \n",
    "            Q2s_in = 0        \n",
    "\n",
    "        lab.Q1(Q1s_in)\n",
    "        \n",
    "        lhist.update(t)\n",
    "            \n",
    "    lab.Q1(0)\n",
    "    lab.Q2(0)\n",
    "    print('Shutting down')\n",
    "\n",
    "end_time = time.time()\n",
    "print(end_time-start_time, 'seconds')"
   ]
  },
  {
   "cell_type": "code",
   "execution_count": 11,
   "id": "fdf5468b",
   "metadata": {},
   "outputs": [],
   "source": [
    "# Save the data to use in training\n",
    "t, T1, T2, Q1, Q2 = lhist.fields\n",
    "\n",
    "ttot = np.arange(loops_rand)\n",
    "Tsp1_df = np.interp(t,ttot,Tsp)\n",
    "\n",
    "mydata = np.array([t,Tsp1_df,T1,T2,Q1,Q2])"
   ]
  },
  {
   "cell_type": "code",
   "execution_count": 12,
   "id": "19445ffd",
   "metadata": {},
   "outputs": [],
   "source": [
    "df = pd.DataFrame(data=mydata.T, columns=['t','Tsp','T1','T2','Q1','Q2'])"
   ]
  },
  {
   "cell_type": "code",
   "execution_count": 55,
   "id": "40c4c340",
   "metadata": {},
   "outputs": [],
   "source": [
    "df.to_csv('MPC_datafortraining.csv',index=True)"
   ]
  }
 ],
 "metadata": {
  "kernelspec": {
   "display_name": "Python 3 (ipykernel)",
   "language": "python",
   "name": "python3"
  },
  "language_info": {
   "codemirror_mode": {
    "name": "ipython",
    "version": 3
   },
   "file_extension": ".py",
   "mimetype": "text/x-python",
   "name": "python",
   "nbconvert_exporter": "python",
   "pygments_lexer": "ipython3",
   "version": "3.9.7"
  }
 },
 "nbformat": 4,
 "nbformat_minor": 5
}
