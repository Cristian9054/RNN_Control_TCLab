{
 "cells": [
  {
   "cell_type": "code",
   "execution_count": 1,
   "id": "5d85a75c",
   "metadata": {},
   "outputs": [],
   "source": [
    "import pandas as pd\n",
    "import numpy as np\n",
    "import matplotlib.pyplot as plt\n",
    "%matplotlib inline\n",
    "import pickle\n",
    "\n",
    "# For scaling, feature selection\n",
    "from sklearn.preprocessing import MinMaxScaler\n",
    "from sklearn.feature_selection import SelectKBest, f_regression\n",
    "from sklearn.model_selection import train_test_split \n",
    "\n",
    "# For NN models\n",
    "from keras.models import Sequential\n",
    "from keras.layers import LSTM, SimpleRNN, Dropout, Dense\n",
    "from keras.callbacks import EarlyStopping\n",
    "from tqdm.keras import TqdmCallback\n",
    "from keras.models import load_model"
   ]
  },
  {
   "cell_type": "code",
   "execution_count": 2,
   "id": "01a7142c",
   "metadata": {},
   "outputs": [],
   "source": [
    "# Load training data\n",
    "df = pd.read_csv('MPC_datafortraining.csv')\n",
    "# Create new feature: setpoint error\n",
    "df['err'] = df['Tsp1'] - df['T1']"
   ]
  },
  {
   "cell_type": "code",
   "execution_count": 6,
   "id": "6dbaea44",
   "metadata": {},
   "outputs": [],
   "source": [
    "# Features: given Tsp1 and err predict Q1\n",
    "X = df[['Tsp1','err']].values\n",
    "y = df[['Q1']].values"
   ]
  },
  {
   "cell_type": "code",
   "execution_count": 7,
   "id": "70db9ae6",
   "metadata": {},
   "outputs": [],
   "source": [
    "# Scale data\n",
    "s_x = MinMaxScaler()\n",
    "Xs = s_x.fit_transform(X)\n",
    "s_y = MinMaxScaler()\n",
    "ys = s_y.fit_transform(y)"
   ]
  },
  {
   "cell_type": "code",
   "execution_count": 10,
   "id": "8397fa7a",
   "metadata": {},
   "outputs": [],
   "source": [
    "# Hyperparameters for model\n",
    "# The parameters are the same for both networks. To do: optimise parameters.\n",
    "window = 15\n",
    "batch_size = 100\n",
    "drop = 0.1\n",
    "units = 100"
   ]
  },
  {
   "cell_type": "code",
   "execution_count": 11,
   "id": "4128597b",
   "metadata": {},
   "outputs": [],
   "source": [
    "# Each input uses last 'window' number of Tsp and err to predict the next Q1\n",
    "X_wind = []\n",
    "y_wind = []\n",
    "for i in range(window,len(df)):\n",
    "    X_wind.append(Xs[i-window:i])\n",
    "    y_wind.append(ys[i])"
   ]
  },
  {
   "cell_type": "code",
   "execution_count": 12,
   "id": "0af81e95",
   "metadata": {},
   "outputs": [],
   "source": [
    "# Reshape data to proper input for the networks\n",
    "X_wind, y_wind = np.array(X_wind), np.array(y_wind)"
   ]
  },
  {
   "cell_type": "code",
   "execution_count": 13,
   "id": "841ede14",
   "metadata": {},
   "outputs": [],
   "source": [
    "# Split into train and test \n",
    "Xtrain, Xtest, ytrain, ytest = train_test_split(X_wind,y_wind,test_size=0.2,shuffle=False)"
   ]
  },
  {
   "cell_type": "code",
   "execution_count": 14,
   "id": "69463b1d",
   "metadata": {},
   "outputs": [],
   "source": [
    "early_stop = EarlyStopping(monitor='val_loss',\n",
    "                   mode='min',\n",
    "                   verbose=1,\n",
    "                   patience=25)"
   ]
  },
  {
   "cell_type": "code",
   "execution_count": 16,
   "id": "47aeb5a0",
   "metadata": {},
   "outputs": [],
   "source": [
    "# LSTM model\n",
    "model1 = Sequential()\n",
    "\n",
    "# 2 LSTM layers and 1 dense for output (Q1). Input shape is the size of the input array (window) and the number of features\n",
    "# (Tsp1 and error)\n",
    "\n",
    "# Input layer\n",
    "model1.add(LSTM(units=units, return_sequences=True, input_shape=(Xtrain.shape[1],Xtrain.shape[2])))\n",
    "model1.add(Dropout(rate=drop))\n",
    "\n",
    "# Hidden layer\n",
    "model1.add(LSTM(units=units))\n",
    "model1.add(Dropout(rate=drop))\n",
    "\n",
    "# Output layer\n",
    "model1.add(Dense(1,activation='relu'))"
   ]
  },
  {
   "cell_type": "code",
   "execution_count": 17,
   "id": "0e6067d9",
   "metadata": {},
   "outputs": [
    {
     "name": "stdout",
     "output_type": "stream",
     "text": [
      "Model: \"sequential_1\"\n",
      "_________________________________________________________________\n",
      " Layer (type)                Output Shape              Param #   \n",
      "=================================================================\n",
      " lstm_2 (LSTM)               (None, 15, 100)           41200     \n",
      "                                                                 \n",
      " dropout_2 (Dropout)         (None, 15, 100)           0         \n",
      "                                                                 \n",
      " lstm_3 (LSTM)               (None, 100)               80400     \n",
      "                                                                 \n",
      " dropout_3 (Dropout)         (None, 100)               0         \n",
      "                                                                 \n",
      " dense_1 (Dense)             (None, 1)                 101       \n",
      "                                                                 \n",
      "=================================================================\n",
      "Total params: 121,701\n",
      "Trainable params: 121,701\n",
      "Non-trainable params: 0\n",
      "_________________________________________________________________\n"
     ]
    }
   ],
   "source": [
    "model1.compile(optimizer='adam', loss='mse')\n",
    "model1.summary()"
   ]
  },
  {
   "cell_type": "code",
   "execution_count": 18,
   "id": "ea303fb8",
   "metadata": {},
   "outputs": [
    {
     "data": {
      "application/vnd.jupyter.widget-view+json": {
       "model_id": "bc37f4b1316944748041191f7be7cbd8",
       "version_major": 2,
       "version_minor": 0
      },
      "text/plain": [
       "0epoch [00:00, ?epoch/s]"
      ]
     },
     "metadata": {},
     "output_type": "display_data"
    },
    {
     "data": {
      "application/vnd.jupyter.widget-view+json": {
       "model_id": "",
       "version_major": 2,
       "version_minor": 0
      },
      "text/plain": [
       "0batch [00:00, ?batch/s]"
      ]
     },
     "metadata": {},
     "output_type": "display_data"
    },
    {
     "name": "stdout",
     "output_type": "stream",
     "text": [
      "Epoch 169: early stopping\n"
     ]
    }
   ],
   "source": [
    "# Train the model\n",
    "result1 = model1.fit(Xtrain, ytrain, \n",
    "                   verbose=0, \n",
    "                   validation_split=0.2,\n",
    "                   callbacks = [early_stop,TqdmCallback(verbose=1)],\n",
    "                   batch_size=batch_size,\n",
    "                   epochs=350)"
   ]
  },
  {
   "cell_type": "code",
   "execution_count": 19,
   "id": "2a9682e8",
   "metadata": {},
   "outputs": [
    {
     "data": {
      "text/plain": [
       "<matplotlib.legend.Legend at 0x2ada7bed700>"
      ]
     },
     "execution_count": 19,
     "metadata": {},
     "output_type": "execute_result"
    },
    {
     "data": {
      "image/png": "[encoded data removed]",
      "text/plain": [
       "<Figure size 432x288 with 1 Axes>"
      ]
     },
     "metadata": {
      "needs_background": "light"
     },
     "output_type": "display_data"
    }
   ],
   "source": [
    "# Training visualization\n",
    "epochs1 = early_stop.stopped_epoch\n",
    "plt.semilogy(result1.history['loss'],label='loss')\n",
    "plt.semilogy(result1.history['val_loss'],label='val_loss')\n",
    "plt.legend()"
   ]
  },
  {
   "cell_type": "code",
   "execution_count": 20,
   "id": "11625ca0",
   "metadata": {},
   "outputs": [],
   "source": [
    "# Save model\n",
    "model1.save('lstm_dense_relu_mpc.h5')"
   ]
  },
  {
   "cell_type": "code",
   "execution_count": 21,
   "id": "a63e9152",
   "metadata": {},
   "outputs": [],
   "source": [
    "# Save model parameters\n",
    "model1_params = dict()\n",
    "model1_params['Xscale'] = s_x\n",
    "model1_params['yscale'] = s_y\n",
    "model1_params['window'] = window\n",
    "\n",
    "pickle.dump(model1_params, open('model_params_dense_relu_lstm.pkl', 'wb'))"
   ]
  },
  {
   "cell_type": "code",
   "execution_count": 56,
   "id": "921192e3",
   "metadata": {},
   "outputs": [],
   "source": [
    "# RNN model\n",
    "model2 = Sequential()\n",
    "\n",
    "# 2 RNN layers and 1 dense for output (Q1). Input shape is the size of the input array (window) and the number of features\n",
    "# (Tsp1 and error)\n",
    "\n",
    "# Input layer\n",
    "model2.add(SimpleRNN(units=units, return_sequences=True, input_shape=(Xtrain.shape[1],Xtrain.shape[2])))\n",
    "model2.add(Dropout(rate=drop))\n",
    "\n",
    "# Hidden layer\n",
    "model2.add(SimpleRNN(units=units))\n",
    "model2.add(Dropout(rate=drop))\n",
    "\n",
    "# Output layer\n",
    "model2.add(Dense(1,activation='relu'))"
   ]
  },
  {
   "cell_type": "code",
   "execution_count": 57,
   "id": "1fe6f2bc",
   "metadata": {},
   "outputs": [
    {
     "name": "stdout",
     "output_type": "stream",
     "text": [
      "Model: \"sequential_5\"\n",
      "_________________________________________________________________\n",
      " Layer (type)                Output Shape              Param #   \n",
      "=================================================================\n",
      " simple_rnn_6 (SimpleRNN)    (None, 15, 100)           10300     \n",
      "                                                                 \n",
      " dropout_10 (Dropout)        (None, 15, 100)           0         \n",
      "                                                                 \n",
      " simple_rnn_7 (SimpleRNN)    (None, 100)               20100     \n",
      "                                                                 \n",
      " dropout_11 (Dropout)        (None, 100)               0         \n",
      "                                                                 \n",
      " dense_5 (Dense)             (None, 1)                 101       \n",
      "                                                                 \n",
      "=================================================================\n",
      "Total params: 30,501\n",
      "Trainable params: 30,501\n",
      "Non-trainable params: 0\n",
      "_________________________________________________________________\n"
     ]
    }
   ],
   "source": [
    "model2.compile(optimizer='adam', loss='mse')\n",
    "model2.summary()"
   ]
  },
  {
   "cell_type": "code",
   "execution_count": 58,
   "id": "08375d38",
   "metadata": {},
   "outputs": [
    {
     "data": {
      "application/vnd.jupyter.widget-view+json": {
       "model_id": "00f362c7d3794ec08a6cb998a5f5d5bf",
       "version_major": 2,
       "version_minor": 0
      },
      "text/plain": [
       "0epoch [00:00, ?epoch/s]"
      ]
     },
     "metadata": {},
     "output_type": "display_data"
    },
    {
     "data": {
      "application/vnd.jupyter.widget-view+json": {
       "model_id": "",
       "version_major": 2,
       "version_minor": 0
      },
      "text/plain": [
       "0batch [00:00, ?batch/s]"
      ]
     },
     "metadata": {},
     "output_type": "display_data"
    },
    {
     "name": "stdout",
     "output_type": "stream",
     "text": [
      "Epoch 48: early stopping\n"
     ]
    }
   ],
   "source": [
    "result = model2.fit(Xtrain, ytrain, \n",
    "                   verbose=0, \n",
    "                   validation_split=0.2,\n",
    "                   callbacks = [early_stop,TqdmCallback(verbose=1)],\n",
    "                   batch_size=batch_size,\n",
    "                   epochs=350)"
   ]
  },
  {
   "cell_type": "code",
   "execution_count": 59,
   "id": "d13601fb",
   "metadata": {},
   "outputs": [
    {
     "data": {
      "text/plain": [
       "<matplotlib.legend.Legend at 0x2adb1ca7c70>"
      ]
     },
     "execution_count": 59,
     "metadata": {},
     "output_type": "execute_result"
    },
    {
     "data": {
      "image/png": "[encoded data removed]",
      "text/plain": [
       "<Figure size 432x288 with 1 Axes>"
      ]
     },
     "metadata": {
      "needs_background": "light"
     },
     "output_type": "display_data"
    }
   ],
   "source": [
    "epochs2 = early_stop.stopped_epoch\n",
    "plt.semilogy(result.history['loss'],label='loss')\n",
    "plt.semilogy(result.history['val_loss'],label='val_loss')\n",
    "plt.legend()"
   ]
  },
  {
   "cell_type": "code",
   "execution_count": 60,
   "id": "75301dd7",
   "metadata": {},
   "outputs": [],
   "source": [
    "model2.save('rnn_dense_relu_mpc.h5')"
   ]
  },
  {
   "cell_type": "code",
   "execution_count": 61,
   "id": "432d5237",
   "metadata": {},
   "outputs": [],
   "source": [
    "# Save model parameters\n",
    "model2_params = dict()\n",
    "model2_params['Xscale'] = s_x\n",
    "model2_params['yscale'] = s_y\n",
    "model2_params['window'] = window\n",
    "\n",
    "pickle.dump(model2_params, open('model_params_dense_relu_rnn.pkl', 'wb'))"
   ]
  },
  {
   "cell_type": "code",
   "execution_count": 62,
   "id": "cdf38635",
   "metadata": {},
   "outputs": [],
   "source": [
    "# Predict using LSTM\n",
    "yp_lstm = model1.predict(Xtest)"
   ]
  },
  {
   "cell_type": "code",
   "execution_count": 63,
   "id": "4eaca58e",
   "metadata": {},
   "outputs": [],
   "source": [
    "# Predict using RNN\n",
    "yp_rnn = model2.predict(Xtest)"
   ]
  },
  {
   "cell_type": "code",
   "execution_count": 64,
   "id": "8bde8cad",
   "metadata": {},
   "outputs": [
    {
     "data": {
      "text/plain": [
       "[<matplotlib.lines.Line2D at 0x2adb2eee0a0>]"
      ]
     },
     "execution_count": 64,
     "metadata": {},
     "output_type": "execute_result"
    },
    {
     "data": {
      "image/png": "[encoded data removed]",
      "text/plain": [
       "<Figure size 432x288 with 1 Axes>"
      ]
     },
     "metadata": {
      "needs_background": "light"
     },
     "output_type": "display_data"
    }
   ],
   "source": [
    "# Raw output comparison\n",
    "plt.plot(yp_lstm)\n",
    "plt.plot(yp_rnn)\n",
    "plt.plot(ytest)"
   ]
  },
  {
   "cell_type": "code",
   "execution_count": 65,
   "id": "9437b694",
   "metadata": {},
   "outputs": [],
   "source": [
    "# Unscale data\n",
    "Xtest_us = s_x.inverse_transform(Xtest[:,-1,:])\n",
    "ytest_us = s_y.inverse_transform(ytest)\n",
    "y_lstm = s_y.inverse_transform(yp_lstm)\n",
    "y_rnn = s_y.inverse_transform(yp_rnn)"
   ]
  },
  {
   "cell_type": "code",
   "execution_count": 73,
   "id": "0facb739",
   "metadata": {},
   "outputs": [
    {
     "data": {
      "image/png": "[encoded data removed]",
      "text/plain": [
       "<Figure size 432x288 with 1 Axes>"
      ]
     },
     "metadata": {
      "needs_background": "light"
     },
     "output_type": "display_data"
    }
   ],
   "source": [
    "# Plot MPC response vs RNN response\n",
    "plt.figure(figsize=(6,4))\n",
    "plt.plot(ytest_us,'r',label='$Q_{MPC}$')\n",
    "plt.plot(y_rnn,'k',label='$Q_{RNN}$')\n",
    "plt.legend(fontsize=12,loc='upper right')\n",
    "plt.xlabel('Tiempo (s)',size=14)\n",
    "plt.ylabel('Q (%)',size=14)\n",
    "plt.xticks(size=12)\n",
    "plt.yticks(size=12);"
   ]
  },
  {
   "cell_type": "code",
   "execution_count": null,
   "id": "fde3bd3b",
   "metadata": {},
   "outputs": [],
   "source": [
    "# Plot MPC response vs LSTM response\n",
    "plt.figure(figsize=(6,4))\n",
    "plt.plot(ytest_us,'r',label='$Q_{MPC}$')\n",
    "plt.plot(y_lstm,'k',label='$Q_{LSTM}$')\n",
    "plt.legend(fontsize=12,loc='upper right')\n",
    "plt.xlabel('Tiempo (s)',size=14)\n",
    "plt.ylabel('Q (%)',size=14)\n",
    "plt.xticks(size=12)\n",
    "plt.yticks(size=12);"
   ]
  }
 ],
 "metadata": {
  "kernelspec": {
   "display_name": "Python 3 (ipykernel)",
   "language": "python",
   "name": "python3"
  },
  "language_info": {
   "codemirror_mode": {
    "name": "ipython",
    "version": 3
   },
   "file_extension": ".py",
   "mimetype": "text/x-python",
   "name": "python",
   "nbconvert_exporter": "python",
   "pygments_lexer": "ipython3",
   "version": "3.9.7"
  }
 },
 "nbformat": 4,
 "nbformat_minor": 5
}
